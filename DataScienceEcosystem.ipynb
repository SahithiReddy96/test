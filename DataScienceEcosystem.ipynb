{
 "cells": [
  {
   "cell_type": "markdown",
   "id": "b7f8dace-9a4f-4a76-9638-8d51854983ea",
   "metadata": {},
   "source": [
    "Data Science Tools and Ecosystem"
   ]
  },
  {
   "cell_type": "markdown",
   "id": "09d6222e-7520-478d-9e78-ba8e2e105905",
   "metadata": {},
   "source": [
    "In this notebook, Data Science Tools and Ecosystem are summarized."
   ]
  },
  {
   "cell_type": "markdown",
   "id": "ec2c0253-6301-479c-9500-f17dc4d00c9c",
   "metadata": {},
   "source": [
    "Some of the popular languages that Data Scientists use are: \n",
    "1.Python\n",
    "2.SQL\n",
    "3.R"
   ]
  },
  {
   "cell_type": "markdown",
   "id": "1a84bd56-4ac3-408c-88b9-e51ced0d5398",
   "metadata": {},
   "source": [
    "Some of the commonly used libraries used by Data Scientists include:\n",
    "1.Pandas\n",
    "2.Scikit-learn\n",
    "3.PyTorch"
   ]
  },
  {
   "cell_type": "markdown",
   "id": "943f073d-03f6-4c18-baf6-8ca66ad69f55",
   "metadata": {},
   "source": [
    "Data Science Tools\n"
   ]
  },
  {
   "cell_type": "markdown",
   "id": "03ebe213-f151-4fa3-aa4b-0d66e3f16dcb",
   "metadata": {},
   "source": [
    "Below are a few examples of evaluating arithmetic expressions in Python.\n"
   ]
  },
  {
   "cell_type": "markdown",
   "id": "6f6820d3-97a0-4a6f-9d5d-3ed162571bf8",
   "metadata": {},
   "source": [
    "This a simple arithmetic expression to mutiply then add integers"
   ]
  },
  {
   "cell_type": "code",
   "execution_count": 2,
   "id": "27b58742-d224-4431-8e66-86804bd10b9d",
   "metadata": {},
   "outputs": [
    {
     "data": {
      "text/plain": [
       "17"
      ]
     },
     "execution_count": 2,
     "metadata": {},
     "output_type": "execute_result"
    }
   ],
   "source": [
    "(3*4)+5"
   ]
  },
  {
   "cell_type": "markdown",
   "id": "ae92495a-8e7d-48dc-9286-e86ea3ad484d",
   "metadata": {},
   "source": [
    "This will convert 200 minutes to hours by diving by 60"
   ]
  },
  {
   "cell_type": "code",
   "execution_count": 3,
   "id": "c4338f14-aa63-49b2-8556-b21a37378a05",
   "metadata": {},
   "outputs": [
    {
     "data": {
      "text/plain": [
       "3.3333333333333335"
      ]
     },
     "execution_count": 3,
     "metadata": {},
     "output_type": "execute_result"
    }
   ],
   "source": [
    "200/60"
   ]
  },
  {
   "cell_type": "markdown",
   "id": "03876cbb-c587-43ea-bdde-3ecba872eb1e",
   "metadata": {},
   "source": [
    "Author\n",
    "Sahithi "
   ]
  },
  {
   "cell_type": "code",
   "execution_count": null,
   "id": "7fac6a7e-5acc-4555-a210-c41d0d236143",
   "metadata": {},
   "outputs": [],
   "source": []
  }
 ],
 "metadata": {
  "kernelspec": {
   "display_name": "Python",
   "language": "python",
   "name": "conda-env-python-py"
  },
  "language_info": {
   "codemirror_mode": {
    "name": "ipython",
    "version": 3
   },
   "file_extension": ".py",
   "mimetype": "text/x-python",
   "name": "python",
   "nbconvert_exporter": "python",
   "pygments_lexer": "ipython3",
   "version": "3.7.12"
  }
 },
 "nbformat": 4,
 "nbformat_minor": 5
}
